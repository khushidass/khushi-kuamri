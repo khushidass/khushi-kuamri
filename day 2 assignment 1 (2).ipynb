{
  "nbformat": 4,
  "nbformat_minor": 0,
  "metadata": {
    "colab": {
      "provenance": []
    },
    "kernelspec": {
      "name": "python3",
      "display_name": "Python 3"
    },
    "language_info": {
      "name": "python"
    }
  },
  "cells": [
    {
      "cell_type": "markdown",
      "source": [
        "## **1. L is list defined as L = [11,12,13,14]**"
      ],
      "metadata": {
        "id": "StOSN9JoP1N7"
      }
    },
    {
      "cell_type": "markdown",
      "source": [
        "**1.1 Adding element in a list**"
      ],
      "metadata": {
        "id": "YcOaD0ZSSUTc"
      }
    },
    {
      "cell_type": "code",
      "execution_count": null,
      "metadata": {
        "colab": {
          "base_uri": "https://localhost:8080/"
        },
        "id": "oLCLNjNdNQwD",
        "outputId": "30ec257d-449c-46a5-ecf6-e6c817c7e693"
      },
      "outputs": [
        {
          "output_type": "stream",
          "name": "stdout",
          "text": [
            "Before adding element -->  [11, 12, 13, 14]\n",
            "After adding 50 and 60 -->  [11, 12, 13, 14, 50, 60]\n"
          ]
        }
      ],
      "source": [
        "L = [11,12,13,14]\n",
        "print(\"Before adding element --> \",L)\n",
        "L.append(50)\n",
        "L.append(60)\n",
        "\n",
        "#L.append([50,60])\n",
        "print(\"After adding 50 and 60 --> \",L)\n"
      ]
    },
    {
      "cell_type": "markdown",
      "source": [
        "**1.2 Removing element from list**"
      ],
      "metadata": {
        "id": "NgnoTIpRQDpu"
      }
    },
    {
      "cell_type": "code",
      "source": [
        "L = [11,12,13,14]\n",
        "print(\"Before removing element --> \",L)\n",
        "L.remove(11)\n",
        "L.remove(13)\n",
        "\n",
        "# del L[0]\n",
        "# del L[2]\n",
        "print(\"After removing 11 and 13 --> \",L)"
      ],
      "metadata": {
        "colab": {
          "base_uri": "https://localhost:8080/"
        },
        "id": "gBh0A0MSOge5",
        "outputId": "d645a4f0-0781-4b0c-c261-788ac6ecfcdb"
      },
      "execution_count": 27,
      "outputs": [
        {
          "output_type": "stream",
          "name": "stdout",
          "text": [
            "Before removing element -->  [11, 12, 13, 14]\n",
            "After removing 11 and 13 -->  [12, 13]\n"
          ]
        }
      ]
    },
    {
      "cell_type": "markdown",
      "source": [
        "**1.3 Sorting list in ascending order**"
      ],
      "metadata": {
        "id": "VU8OxmvIQpH9"
      }
    },
    {
      "cell_type": "code",
      "source": [
        "L = [12,14,13,11]\n",
        "print(\"Before sorting elements --> \",L)\n",
        "L.sort()\n",
        "print(\"After sorting elements --> \",L)"
      ],
      "metadata": {
        "colab": {
          "base_uri": "https://localhost:8080/"
        },
        "id": "w9fa1HDiOkXK",
        "outputId": "05187184-386c-4281-d53f-dd86707900d2"
      },
      "execution_count": null,
      "outputs": [
        {
          "output_type": "stream",
          "name": "stdout",
          "text": [
            "Before sorting elements -->  [12, 14, 13, 11]\n",
            "After sorting elements -->  [11, 12, 13, 14]\n"
          ]
        }
      ]
    },
    {
      "cell_type": "markdown",
      "source": [
        "**1.4 Sorting list in descending order**"
      ],
      "metadata": {
        "id": "_XyKU6ghRm6k"
      }
    },
    {
      "cell_type": "code",
      "source": [
        "L = [12,14,13,11]\n",
        "print(\"Before sorting elements --> \",L)\n",
        "L.sort(reverse=True)\n",
        "print(\"After sorting elements --> \",L)"
      ],
      "metadata": {
        "colab": {
          "base_uri": "https://localhost:8080/"
        },
        "id": "DuT2pz-0RwLl",
        "outputId": "01152c60-2b65-45a2-b196-4c39e1db47d7"
      },
      "execution_count": null,
      "outputs": [
        {
          "output_type": "stream",
          "name": "stdout",
          "text": [
            "Before sorting elements -->  [12, 14, 13, 11]\n",
            "After sorting elements -->  [14, 13, 12, 11]\n"
          ]
        }
      ]
    },
    {
      "cell_type": "markdown",
      "source": [
        "**1.5 Searching element in list**"
      ],
      "metadata": {
        "id": "xBZG4NM6Sp1B"
      }
    },
    {
      "cell_type": "code",
      "source": [
        "L = [11,12,13,14]\n",
        "if 13 in L:\n",
        "  print(\"13 is found\")\n",
        "else:\n",
        "  print(\"13 is not found\")"
      ],
      "metadata": {
        "colab": {
          "base_uri": "https://localhost:8080/"
        },
        "id": "azVYSU2FSyDh",
        "outputId": "f4b68399-cc80-4b98-ca87-e7118e90f265"
      },
      "execution_count": null,
      "outputs": [
        {
          "output_type": "stream",
          "name": "stdout",
          "text": [
            "13 is found\n"
          ]
        }
      ]
    },
    {
      "cell_type": "markdown",
      "source": [
        "**1.6 Counting number of elements in list**"
      ],
      "metadata": {
        "id": "TH8i6eprTcK1"
      }
    },
    {
      "cell_type": "code",
      "source": [
        "L = [11,12,13,14]\n",
        "L1 = len(L)\n",
        "print(\"Total number of elements in the list --> \",L1)\n"
      ],
      "metadata": {
        "colab": {
          "base_uri": "https://localhost:8080/"
        },
        "id": "O-yWqXgDTkRY",
        "outputId": "2d638fc1-4b22-4b35-f487-c7432e0c476f"
      },
      "execution_count": null,
      "outputs": [
        {
          "output_type": "stream",
          "name": "stdout",
          "text": [
            "Total number of elements in the list --> 4\n"
          ]
        }
      ]
    },
    {
      "cell_type": "markdown",
      "source": [
        "**1.7 Finding sum of elements in the list**"
      ],
      "metadata": {
        "id": "a13lbjEYVG1K"
      }
    },
    {
      "cell_type": "code",
      "source": [
        "L = [11,12,13,14]\n",
        "s=0\n",
        "for i in L:\n",
        "  s+=i\n",
        "print(\"Sum of elements in the list --> \",s)\n",
        "\n",
        "#print(sum(L))"
      ],
      "metadata": {
        "colab": {
          "base_uri": "https://localhost:8080/"
        },
        "id": "RlQ3M4g1VZK7",
        "outputId": "d5d8752e-bc00-4c55-a678-81254eb2264e"
      },
      "execution_count": null,
      "outputs": [
        {
          "output_type": "stream",
          "name": "stdout",
          "text": [
            "Sum of elements in the list -->  50\n"
          ]
        }
      ]
    },
    {
      "cell_type": "markdown",
      "source": [
        "**1.8 Sum of odd numbers in the list**"
      ],
      "metadata": {
        "id": "_8G-8JIaXOyv"
      }
    },
    {
      "cell_type": "code",
      "source": [
        "L = [11,12,13,14]\n",
        "s=0\n",
        "for i in L:\n",
        "  if i%2!=0:\n",
        "    s+=i\n",
        "print(\"Sum of odd numbers in the list --> \",s)"
      ],
      "metadata": {
        "colab": {
          "base_uri": "https://localhost:8080/"
        },
        "id": "xfxwhCsXZUGw",
        "outputId": "3bdd2fd8-3dfd-494e-a59f-70398105811d"
      },
      "execution_count": null,
      "outputs": [
        {
          "output_type": "stream",
          "name": "stdout",
          "text": [
            "Sum of odd numbers in the list -->  24\n"
          ]
        }
      ]
    },
    {
      "cell_type": "markdown",
      "source": [
        "**1.9 Sum of prime numbers in the list**"
      ],
      "metadata": {
        "id": "pXi4G1oKaYLK"
      }
    },
    {
      "cell_type": "code",
      "source": [
        "L = [11,12,13,14]\n",
        "s=0\n",
        "for i in L:\n",
        "  if i%2==0:\n",
        "    s+=i\n",
        "print(\"Sum of even numbers in the list --> \",s)"
      ],
      "metadata": {
        "colab": {
          "base_uri": "https://localhost:8080/"
        },
        "id": "0Aa8JjqRa3on",
        "outputId": "abd8113d-fe68-405b-bc27-035f12ff8874"
      },
      "execution_count": null,
      "outputs": [
        {
          "output_type": "stream",
          "name": "stdout",
          "text": [
            "Sum of even numbers in the list -->  26\n"
          ]
        }
      ]
    },
    {
      "cell_type": "markdown",
      "source": [
        "**1.10 Sum of prime numbers in the list**"
      ],
      "metadata": {
        "id": "8XfQHl4_a9zD"
      }
    },
    {
      "cell_type": "code",
      "source": [
        "L = [11,12,13,14]\n",
        "s=0\n",
        "for i in L:\n",
        "  count=0\n",
        "  for j in range(1,i+1):\n",
        "     if i%j==0:\n",
        "      count+=1\n",
        "  if count==2:\n",
        "      s+=i\n",
        "print(\"Sum of prime numbers --> \",s)"
      ],
      "metadata": {
        "colab": {
          "base_uri": "https://localhost:8080/"
        },
        "id": "2_XXxU47bGTw",
        "outputId": "dd3ab32e-4092-42fe-ff35-79b90c781e6b"
      },
      "execution_count": null,
      "outputs": [
        {
          "output_type": "stream",
          "name": "stdout",
          "text": [
            "Sum of prime numbers -->  24\n"
          ]
        }
      ]
    },
    {
      "cell_type": "markdown",
      "source": [
        "**1.11 Clear all elements from the list**"
      ],
      "metadata": {
        "id": "nuLohwe3e9S0"
      }
    },
    {
      "cell_type": "code",
      "source": [
        "L = [11,12,13,14]\n",
        "print(\"Before clearing elements -- > \",L)\n",
        "del L[0:4]\n",
        "\n",
        "# L.clear()\n",
        "print(\"After clearing elements -- > \",L)"
      ],
      "metadata": {
        "colab": {
          "base_uri": "https://localhost:8080/"
        },
        "id": "3GorcX6xfJWD",
        "outputId": "e71ec940-1f38-4057-ea3f-de422b4ba97f"
      },
      "execution_count": null,
      "outputs": [
        {
          "output_type": "stream",
          "name": "stdout",
          "text": [
            "Before clearing elements -- >  [11, 12, 13, 14]\n",
            "After clearing elements -- >  []\n"
          ]
        }
      ]
    },
    {
      "cell_type": "markdown",
      "source": [
        "**1.12 Deleting a list**"
      ],
      "metadata": {
        "id": "5qtFUMElfrra"
      }
    },
    {
      "cell_type": "code",
      "source": [
        "L = [11,12,13,14]\n",
        "print(\"Before deleting a list -- > \",L)\n",
        "L1 = L.clear()\n",
        "\n",
        "# del L\n",
        "print(\"After deleting a list -- > \",L1)"
      ],
      "metadata": {
        "colab": {
          "base_uri": "https://localhost:8080/"
        },
        "id": "5J_j4YH5f3ZK",
        "outputId": "1bd144ad-be8a-4164-de8a-0986d7c2b1a3"
      },
      "execution_count": null,
      "outputs": [
        {
          "output_type": "stream",
          "name": "stdout",
          "text": [
            "Before deleting a list -- >  [11, 12, 13, 14]\n",
            "After deleting a list -- >  None\n"
          ]
        }
      ]
    },
    {
      "cell_type": "markdown",
      "source": [
        "## **2. D is a dictionary defined as D= {1:5.6, 2:7.8, 3:6.6, 4:8.7, 5:7.7}.**"
      ],
      "metadata": {
        "id": "TgFqCuBlgX4l"
      }
    },
    {
      "cell_type": "markdown",
      "source": [
        "**2.1 Adding new entry in D**"
      ],
      "metadata": {
        "id": "uqKRuAjBgjqj"
      }
    },
    {
      "cell_type": "code",
      "source": [
        "D = {1:5.6,2:7.8,3:6.6,4:8.7,5:7.7}\n",
        "print(\"Before adding element in the dictionary -- > \",D)\n",
        "D[8] = 8.8\n",
        "print(\"After adding element in the dictionary --> \",D)"
      ],
      "metadata": {
        "colab": {
          "base_uri": "https://localhost:8080/"
        },
        "id": "E8PY31xPgh_p",
        "outputId": "755b0979-f7cd-4871-e08a-57cd3154efae"
      },
      "execution_count": null,
      "outputs": [
        {
          "output_type": "stream",
          "name": "stdout",
          "text": [
            "Before adding element in the dictionary {1: 5.6, 2: 7.8, 3: 6.6, 4: 8.7, 5: 7.7}\n",
            "After adding element in the dictionary {1: 5.6, 2: 7.8, 3: 6.6, 4: 8.7, 5: 7.7, 8: 8.8}\n"
          ]
        }
      ]
    },
    {
      "cell_type": "markdown",
      "source": [
        "**2.2 Deleting key from dictionary**"
      ],
      "metadata": {
        "id": "IfgV90729VEx"
      }
    },
    {
      "cell_type": "code",
      "source": [
        "D = {1:5.6,2:7.8,3:6.6,4:8.7,5:7.7}\n",
        "del D[2]\n",
        "print(\"Deleting element --> \",D)"
      ],
      "metadata": {
        "colab": {
          "base_uri": "https://localhost:8080/"
        },
        "id": "NTS3xRzt9hjN",
        "outputId": "43487d1a-5b41-48ee-83d1-6f408774f502"
      },
      "execution_count": 2,
      "outputs": [
        {
          "output_type": "stream",
          "name": "stdout",
          "text": [
            "Deleting element -->  {1: 5.6, 3: 6.6, 4: 8.7, 5: 7.7}\n"
          ]
        }
      ]
    },
    {
      "cell_type": "markdown",
      "source": [
        "**2.3 Searching key in D**"
      ],
      "metadata": {
        "id": "6Z2jYrfd-v9x"
      }
    },
    {
      "cell_type": "code",
      "source": [
        "D = {1:5.6,2:7.8,3:6.6,4:8.7,5:7.7}\n",
        "if 6 in D:\n",
        "  print(\"Yes , 6 is in the dictionary \")\n",
        "else:\n",
        "  print(\"No , 6 is not in the dictionary \")"
      ],
      "metadata": {
        "colab": {
          "base_uri": "https://localhost:8080/"
        },
        "id": "2mQ2N8LL-6_O",
        "outputId": "a83efa06-1c29-486e-9496-92cc6b4c8c3e"
      },
      "execution_count": 3,
      "outputs": [
        {
          "output_type": "stream",
          "name": "stdout",
          "text": [
            "No , 6 is not in the dictionary \n"
          ]
        }
      ]
    },
    {
      "cell_type": "markdown",
      "source": [
        "**2.4 Count number of elements in D** **bold text**"
      ],
      "metadata": {
        "id": "3JlfemFs_hYc"
      }
    },
    {
      "cell_type": "code",
      "source": [
        "D = {1:5.6,2:7.8,3:6.6,4:8.7,5:7.7}\n",
        "print(\"Total number of elements in D --> \",len(D))"
      ],
      "metadata": {
        "colab": {
          "base_uri": "https://localhost:8080/"
        },
        "id": "XOUoxDff_rcl",
        "outputId": "1aab2fd7-ac10-4818-c722-58b8048914fa"
      },
      "execution_count": 4,
      "outputs": [
        {
          "output_type": "stream",
          "name": "stdout",
          "text": [
            "Total number of elements in D -->  5\n"
          ]
        }
      ]
    },
    {
      "cell_type": "markdown",
      "source": [],
      "metadata": {
        "id": "q7sTke9r_52T"
      }
    },
    {
      "cell_type": "markdown",
      "source": [
        "**2.5 Finding sum of values in D**"
      ],
      "metadata": {
        "id": "q1n-yKMYBX87"
      }
    },
    {
      "cell_type": "code",
      "source": [
        "D = {1:5.6,2:7.8,3:6.6,4:8.7,5:7.7}\n",
        "s=0\n",
        "for i in D.values():\n",
        "  s+=i\n",
        "print(\"Sum of values in D --> \",s)"
      ],
      "metadata": {
        "colab": {
          "base_uri": "https://localhost:8080/"
        },
        "id": "7XaxMRWs_8rP",
        "outputId": "6f73436e-b97b-4b0c-c5bc-a6297e9d242e"
      },
      "execution_count": 11,
      "outputs": [
        {
          "output_type": "stream",
          "name": "stdout",
          "text": [
            "Sum of values in D -->  36.4\n"
          ]
        }
      ]
    },
    {
      "cell_type": "markdown",
      "source": [
        "**2.6 Updating value of key in D**"
      ],
      "metadata": {
        "id": "tQCW3sDAR6RH"
      }
    },
    {
      "cell_type": "code",
      "source": [
        "D = {1:5.6,2:7.8,3:6.6,4:8.7,5:7.7}\n",
        "print(\"Before updating value of 3 --> \",D)\n",
        "\n",
        "D[3] = 7.1\n",
        "print(\"After updating value of 3 --> \",D)"
      ],
      "metadata": {
        "colab": {
          "base_uri": "https://localhost:8080/"
        },
        "id": "8Yl3xjZ7BtSN",
        "outputId": "b5bbcc31-9539-4b4e-dc95-68e53e543ae6"
      },
      "execution_count": 13,
      "outputs": [
        {
          "output_type": "stream",
          "name": "stdout",
          "text": [
            "Before updating value of 3 -->  {1: 5.6, 2: 7.8, 3: 6.6, 4: 8.7, 5: 7.7}\n",
            "After updating value of 3 -->  {1: 5.6, 2: 7.8, 3: 7.1, 4: 8.7, 5: 7.7}\n"
          ]
        }
      ]
    },
    {
      "cell_type": "markdown",
      "source": [
        "**2.7 Clear the dictionary**"
      ],
      "metadata": {
        "id": "3beYpQ7WCSdK"
      }
    },
    {
      "cell_type": "code",
      "source": [
        "D = {1:5.6,2:7.8,3:6.6,4:8.7,5:7.7}\n",
        "print(\"Before clear the dictionary --> \",D)\n",
        "D.clear()\n",
        "print(\"After clear the dictionary --> \",D)"
      ],
      "metadata": {
        "colab": {
          "base_uri": "https://localhost:8080/"
        },
        "id": "iOBL3whRCLd_",
        "outputId": "bf0d7f7d-85a6-4842-ec6a-e2320a2775e4"
      },
      "execution_count": 15,
      "outputs": [
        {
          "output_type": "stream",
          "name": "stdout",
          "text": [
            "Before clear the dictionary -->  {1: 5.6, 2: 7.8, 3: 6.6, 4: 8.7, 5: 7.7}\n",
            "After clear the dictionary -->  {}\n"
          ]
        }
      ]
    },
    {
      "cell_type": "markdown",
      "source": [
        "## **3. Set**"
      ],
      "metadata": {
        "id": "ItBcsvpICy6V"
      }
    },
    {
      "cell_type": "markdown",
      "source": [
        "**3.1 Adding element in the set**"
      ],
      "metadata": {
        "id": "wcfzFfheEb9X"
      }
    },
    {
      "cell_type": "code",
      "source": [
        "S1 = [10, 20, 30, 40, 50, 60]\n",
        "S2 = [40, 50, 60, 70, 80, 90]\n",
        "print(\"Before adding elements in the set --> \",S1)\n",
        "S1.append(55)\n",
        "S1.append(66)\n",
        "\n",
        "#S1.append([55,66])\n",
        "print(\"After adding elements in the set --> \",S1)"
      ],
      "metadata": {
        "colab": {
          "base_uri": "https://localhost:8080/"
        },
        "id": "hRsCIaN-Di0U",
        "outputId": "5b8c8b42-862e-4481-8d66-372e861a1a3d"
      },
      "execution_count": 17,
      "outputs": [
        {
          "output_type": "stream",
          "name": "stdout",
          "text": [
            "[10, 20, 30, 40, 50, 60, [55, 66]]\n"
          ]
        }
      ]
    },
    {
      "cell_type": "markdown",
      "source": [
        "**3.2 Removing element from set**"
      ],
      "metadata": {
        "id": "-oDcV9UBGHMI"
      }
    },
    {
      "cell_type": "code",
      "source": [
        "S1 = [10, 20, 30, 40, 50, 60]\n",
        "print(\"Before removing elements from set --> \",S1)\n",
        "# S1.remove(10)\n",
        "# S1.remove(30)\n",
        "\n",
        "del S1[0]\n",
        "del S1[1]\n",
        "print(\"After removing elements from set --> \",S1)"
      ],
      "metadata": {
        "colab": {
          "base_uri": "https://localhost:8080/"
        },
        "id": "0kk8_R2eDdwu",
        "outputId": "4dcc75cc-dd1c-47d4-8382-96185f3b7e00"
      },
      "execution_count": 26,
      "outputs": [
        {
          "output_type": "stream",
          "name": "stdout",
          "text": [
            "Before removing elements from set -->  [10, 20, 30, 40, 50, 60]\n",
            "After removing elements from set -->  [20, 40, 50, 60]\n"
          ]
        }
      ]
    },
    {
      "cell_type": "markdown",
      "source": [],
      "metadata": {
        "id": "o2VNDxPtGbyE"
      }
    },
    {
      "cell_type": "markdown",
      "source": [
        "**3.3 Searching element in the set**"
      ],
      "metadata": {
        "id": "J81lUDOKHYU0"
      }
    },
    {
      "cell_type": "code",
      "source": [
        "S1 = [10, 20, 30, 40, 50, 60]\n",
        "if 40 in S1:\n",
        "  print(\"40 is in the set S1\")\n",
        "else:\n",
        "  print(\"40 in not in the set S1\")"
      ],
      "metadata": {
        "colab": {
          "base_uri": "https://localhost:8080/"
        },
        "id": "-mMButiODWor",
        "outputId": "3a601ad0-680b-445f-ef8a-6d60c7ea913b"
      },
      "execution_count": 29,
      "outputs": [
        {
          "output_type": "stream",
          "name": "stdout",
          "text": [
            "40 is in the set S1\n"
          ]
        }
      ]
    },
    {
      "cell_type": "markdown",
      "source": [
        "**3.4 Union of sets**"
      ],
      "metadata": {
        "id": "1TmSZrHFIXts"
      }
    },
    {
      "cell_type": "code",
      "source": [
        "S1 = set([10, 20, 30, 40, 50, 60])\n",
        "S2 = set([40, 50, 60, 70, 80, 90])\n",
        "print(\"Union of S1 and S2 --> \",S1.union(S2))"
      ],
      "metadata": {
        "colab": {
          "base_uri": "https://localhost:8080/"
        },
        "id": "ZzbyD8HSDEFG",
        "outputId": "85d2073a-78f2-42df-b1e7-9b4319be8412"
      },
      "execution_count": 34,
      "outputs": [
        {
          "output_type": "stream",
          "name": "stdout",
          "text": [
            "Union of S1 and S2 -->  {70, 40, 10, 80, 50, 20, 90, 60, 30}\n"
          ]
        }
      ]
    },
    {
      "cell_type": "markdown",
      "source": [
        "**3.5 Intersection of sets**"
      ],
      "metadata": {
        "id": "yC3CcCRMJEJy"
      }
    },
    {
      "cell_type": "code",
      "source": [
        "S1 = set([10, 20, 30, 40, 50, 60])\n",
        "S2 = set([40, 50, 60, 70, 80, 90])\n",
        "print(\"Intersection of S1 and S2 --> \",S1.intersection(S2))"
      ],
      "metadata": {
        "id": "NtwVS-9FId4V"
      },
      "execution_count": null,
      "outputs": []
    },
    {
      "cell_type": "markdown",
      "source": [
        "**3.6 Difference of sets**"
      ],
      "metadata": {
        "id": "Pvz1hP4vIdWf"
      }
    },
    {
      "cell_type": "code",
      "source": [
        "S1 = set([10, 20, 30, 40, 50, 60])\n",
        "S2 = set([40, 50, 60, 70, 80, 90])\n",
        "# print(\"Difference of S1 and S2 --> \",S1-S2)\n",
        "\n",
        "print(\"Difference of S1 and S2 --> \",S1.difference(S2))"
      ],
      "metadata": {
        "colab": {
          "base_uri": "https://localhost:8080/"
        },
        "id": "b_WVOLFRJTKD",
        "outputId": "c30bb254-eb16-4f57-c927-5e381d7bd3a0"
      },
      "execution_count": 37,
      "outputs": [
        {
          "output_type": "stream",
          "name": "stdout",
          "text": [
            "Difference of S1 and S2 -->  {10, 20, 30}\n"
          ]
        }
      ]
    }
  ]
}